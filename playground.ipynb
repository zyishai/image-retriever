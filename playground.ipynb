{
 "metadata": {
  "language_info": {
   "codemirror_mode": {
    "name": "ipython",
    "version": 3
   },
   "file_extension": ".py",
   "mimetype": "text/x-python",
   "name": "python",
   "nbconvert_exporter": "python",
   "pygments_lexer": "ipython3",
   "version": "3.8.5-final"
  },
  "orig_nbformat": 2,
  "kernelspec": {
   "name": "python_defaultSpec_1598525607592",
   "display_name": "Python 3.8.5 64-bit ('cv': venv)"
  }
 },
 "nbformat": 4,
 "nbformat_minor": 2,
 "cells": [
  {
   "cell_type": "code",
   "execution_count": 4,
   "metadata": {
    "tags": []
   },
   "outputs": [],
   "source": [
    "from correlogram import specific_correlogram\n",
    "from core.image import Image\n",
    "luffy = Image('imgs/luffy.jpg')"
   ]
  },
  {
   "cell_type": "code",
   "execution_count": 5,
   "metadata": {
    "tags": []
   },
   "outputs": [
    {
     "output_type": "stream",
     "name": "stdout",
     "text": "(158, 227, 243)\n(130, 219, 249)\n"
    }
   ],
   "source": [
    "p1 = luffy.pixel_at(3, 9)\n",
    "p2 = luffy.pixel_at(8, 2)\n",
    "print(p1.color.unpack(format=\"rgb\"))\n",
    "print(p2.color.unpack(format=\"rgb\"))"
   ]
  },
  {
   "cell_type": "code",
   "execution_count": 5,
   "metadata": {
    "tags": []
   },
   "outputs": [
    {
     "output_type": "stream",
     "name": "stdout",
     "text": "1 0.0\n2 0.0\n3 0.0\n4 0.0\n5 0.0\n6 0.0\n7 0.0\n8 0.0026041666666666665\n9 0.0023148148148148147\n10 0.0\n11 0.0\n12 0.0\n13 0.0\n14 0.0\n15 0.0\n16 0.0\n17 0.0\n18 0.0\n19 0.0\n20 0.0\n21 0.0\n22 0.0\n23 0.0\n24 0.0\n25 0.0\n26 0.0\n27 0.0\n28 0.0\n29 0.0\n30 0.0\n31 0.0\n32 0.0\n33 0.0\n34 0.0\n35 0.0\n36 0.0\n37 0.0\n38 0.0\n39 0.0\n40 0.0\n41 0.0\n42 0.0\n43 0.0\n44 0.0\n45 0.0\n46 0.0\n47 0.0\n48 0.0\n49 0.0\n50 0.0\n"
    }
   ],
   "source": [
    "for i in range(1, 51):    \n",
    "    print(i, specific_correlogram(luffy, p1.color, p2.color, i))"
   ]
  }
 ]
}