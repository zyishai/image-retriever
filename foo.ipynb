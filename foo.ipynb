{
 "metadata": {
  "language_info": {
   "codemirror_mode": {
    "name": "ipython",
    "version": 3
   },
   "file_extension": ".py",
   "mimetype": "text/x-python",
   "name": "python",
   "nbconvert_exporter": "python",
   "pygments_lexer": "ipython3",
   "version": "3.8.5-final"
  },
  "orig_nbformat": 2,
  "kernelspec": {
   "name": "Python 3.8.5 64-bit ('cv')",
   "display_name": "Python 3.8.5 64-bit ('cv')",
   "metadata": {
    "interpreter": {
     "hash": "ea0eaea336e57824b6893cbf6ed709dbc9960f1fb86976bc1fb1891d44bd15e0"
    }
   }
  }
 },
 "nbformat": 4,
 "nbformat_minor": 2,
 "cells": [
  {
   "cell_type": "code",
   "execution_count": 3,
   "metadata": {},
   "outputs": [],
   "source": [
    "from adapters.cv_image import OpenCVImage\n",
    "luffy = OpenCVImage('imgs/luffy.jpg')\n",
    "sm_luffy = OpenCVImage('imgs/luffy_small.jpg')"
   ]
  },
  {
   "cell_type": "code",
   "execution_count": 4,
   "metadata": {
    "tags": []
   },
   "outputs": [
    {
     "output_type": "stream",
     "name": "stdout",
     "text": [
      "36317.77470780359\n"
     ]
    }
   ],
   "source": [
    "import numpy as np\n",
    "from core.histogram import get_offsets, hist_contribution\n",
    "\n",
    "offsets = get_offsets(luffy, sm_luffy)\n",
    "\n",
    "height, width = sm_luffy.source.shape;\n",
    "\n",
    "subs = map(lambda offset: hist_contribution(luffy.get_sub_image(offset, width, height), sm_luffy.histogram), offsets)\n",
    "\n",
    "print(max(subs))\n"
   ]
  }
 ]
}